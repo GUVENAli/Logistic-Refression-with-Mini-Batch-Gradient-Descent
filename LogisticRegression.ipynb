{
 "cells": [
  {
   "cell_type": "code",
   "execution_count": 1,
   "metadata": {},
   "outputs": [],
   "source": [
    "# If data is written from pandas library in Python, convert numeric data to numpy array by using numpy.array(data)\n",
    "class LogisticRegression(object):\n",
    "    import numpy as np\n",
    "    def __init__(self, data, label, learningRate = 0.1, maxEpoch = 100, batchSize = 32):\n",
    "        self.__data = data\n",
    "        self.__label = label\n",
    "        self.__learningRate = learningRate\n",
    "        self.__maxEpoch = maxEpoch\n",
    "        self.__batchSize = batchSize\n",
    "        self.__weights = 0\n",
    "        \n",
    "    def __setWeights(self, weights):\n",
    "        self.__weights = weights\n",
    "    \n",
    "    def __getWeights(self):\n",
    "        return self.__weights\n",
    "    \n",
    "    # Activation function\n",
    "    def __sigmoid(self,result):\n",
    "        return 1 / (1 + np.exp(-result))\n",
    "    \n",
    "    def logisticRegFit(self):\n",
    "        # initialize weights\n",
    "        weights = np.random.randn(self.__data.shape[1]+1).reshape(-1,1)\n",
    "        self.__data = np.insert(self.__data, 0, 1.0, axis=1)\n",
    "        n_minibatches = len(self.__data) // self.__batchSize\n",
    "        for epoch in range(self.__maxEpoch):\n",
    "            # Mini Batch Gradient Descent\n",
    "            for samples in range(n_minibatches + 1):\n",
    "                dataMiniBatch = self.__data[samples * self.__batchSize:(samples + 1) * self.__batchSize,:]\n",
    "                labelMiniBatch = self.__label[samples * self.__batchSize:(samples + 1) * self.__batchSize,:]\n",
    "                if len(dataMiniBatch) == 0:\n",
    "                    break\n",
    "                predictions = np.dot(dataMiniBatch, weights).reshape(-1,1)\n",
    "                predictions = self.__sigmoid(predictions)\n",
    "                predictions = np.round(predictions)\n",
    "                error = labelMiniBatch - predictions\n",
    "                gradient = np.dot(dataMiniBatch.T, error)\n",
    "                weights = weights + self.__learningRate*gradient\n",
    "            #predictions = np.dot(self.__data, weights).reshape(-1,1)\n",
    "            #error = self.__label - predictions\n",
    "            #gradient = np.dot(self.__data.T, error)\n",
    "            #weights = weights + self.__learningRate*gradient\n",
    "        self.__setWeights(weights)\n",
    "        return weights\n",
    "    \n",
    "    def scores(self):\n",
    "        weights = self.__getWeights()\n",
    "        predictions = np.dot(self.__data, weights).reshape(-1,1)\n",
    "        predictions = self.__sigmoid(predictions)\n",
    "        predictions = np.round(predictions)\n",
    "        error = self.__label - predictions\n",
    "        errorSquare = error**2\n",
    "        mse = np.sum(errorSquare)\n",
    "        mse = mse / len(self.__data)\n",
    "        rmse = np.sqrt(mse)\n",
    "        return {\"MeanSquareError\" : mse, \"RootMeanSquareError\" : rmse, \"Accuracy\":(predictions == self.__label).mean()}\n",
    "  \n",
    "    def logisticRegPredict(self, data):\n",
    "        weights = self.__getWeights()\n",
    "        data = np.insert(data, 0, 1.0, axis=1)\n",
    "        predictions = np.dot(data, weights).reshape(-1,1)\n",
    "        predictions = self.__sigmoid(predictions)\n",
    "        predictions = np.round(predictions)\n",
    "        return predictions"
   ]
  },
  {
   "cell_type": "code",
   "execution_count": 2,
   "metadata": {},
   "outputs": [
    {
     "data": {
      "text/plain": [
       "array([[0, 0],\n",
       "       [1, 0],\n",
       "       [0, 1],\n",
       "       [1, 1]])"
      ]
     },
     "execution_count": 2,
     "metadata": {},
     "output_type": "execute_result"
    }
   ],
   "source": [
    "import numpy as np\n",
    "X = np.array([[0,0],[1,0],[0,1],[1,1]])\n",
    "y = np.array([[0],[0],[0],[1]])\n",
    "obj = LogisticRegression(X,y,0.5, 20)\n",
    "X"
   ]
  },
  {
   "cell_type": "code",
   "execution_count": 3,
   "metadata": {},
   "outputs": [
    {
     "data": {
      "text/plain": [
       "array([[-0.99253063],\n",
       "       [ 0.49866269],\n",
       "       [ 0.89851897]])"
      ]
     },
     "execution_count": 3,
     "metadata": {},
     "output_type": "execute_result"
    }
   ],
   "source": [
    "obj.logisticRegFit()"
   ]
  },
  {
   "cell_type": "code",
   "execution_count": 4,
   "metadata": {},
   "outputs": [
    {
     "data": {
      "text/plain": [
       "{'MeanSquareError': 0.0, 'RootMeanSquareError': 0.0, 'Accuracy': 1.0}"
      ]
     },
     "execution_count": 4,
     "metadata": {},
     "output_type": "execute_result"
    }
   ],
   "source": [
    "obj.scores()"
   ]
  },
  {
   "cell_type": "code",
   "execution_count": 5,
   "metadata": {},
   "outputs": [
    {
     "data": {
      "text/plain": [
       "array([[0.],\n",
       "       [0.],\n",
       "       [0.],\n",
       "       [1.]])"
      ]
     },
     "execution_count": 5,
     "metadata": {},
     "output_type": "execute_result"
    }
   ],
   "source": [
    "obj.logisticRegPredict(np.array([[0,0],[1,0],[0,1],[1,1]]))"
   ]
  },
  {
   "cell_type": "markdown",
   "metadata": {},
   "source": [
    "## Logistic Regression with Multiple Class"
   ]
  },
  {
   "cell_type": "code",
   "execution_count": 6,
   "metadata": {},
   "outputs": [
    {
     "data": {
      "text/plain": [
       "array([0, 1, 2])"
      ]
     },
     "execution_count": 6,
     "metadata": {},
     "output_type": "execute_result"
    }
   ],
   "source": [
    "from sklearn.datasets import load_iris\n",
    "iris = load_iris()\n",
    "import numpy as np\n",
    "X = iris.data\n",
    "y = iris.target\n",
    "y = y.reshape(-1,1)\n",
    "np.unique(y)"
   ]
  },
  {
   "cell_type": "code",
   "execution_count": 7,
   "metadata": {},
   "outputs": [],
   "source": [
    "y1 = np.where(y == 0, 1, 0)\n",
    "y2 = np.where(y == 1, 1, 0)\n",
    "y3 = np.where(y == 2, 1, 0)"
   ]
  },
  {
   "cell_type": "code",
   "execution_count": 8,
   "metadata": {},
   "outputs": [],
   "source": [
    "obj = LogisticRegression(X,y1,0.1, 2000)"
   ]
  },
  {
   "cell_type": "code",
   "execution_count": 9,
   "metadata": {},
   "outputs": [
    {
     "data": {
      "text/plain": [
       "array([[  1.70635533],\n",
       "       [  3.66281038],\n",
       "       [ 10.77766634],\n",
       "       [-15.3886199 ],\n",
       "       [ -6.79471519]])"
      ]
     },
     "execution_count": 9,
     "metadata": {},
     "output_type": "execute_result"
    }
   ],
   "source": [
    "obj.logisticRegFit()"
   ]
  },
  {
   "cell_type": "code",
   "execution_count": 10,
   "metadata": {},
   "outputs": [
    {
     "data": {
      "text/plain": [
       "{'MeanSquareError': 0.0, 'RootMeanSquareError': 0.0, 'Accuracy': 1.0}"
      ]
     },
     "execution_count": 10,
     "metadata": {},
     "output_type": "execute_result"
    }
   ],
   "source": [
    "obj.scores()"
   ]
  },
  {
   "cell_type": "code",
   "execution_count": 11,
   "metadata": {},
   "outputs": [],
   "source": [
    "pred1 = obj.logisticRegPredict(X)"
   ]
  },
  {
   "cell_type": "code",
   "execution_count": 19,
   "metadata": {},
   "outputs": [
    {
     "data": {
      "text/plain": [
       "{'MeanSquareError': 0.24,\n",
       " 'RootMeanSquareError': 0.4898979485566356,\n",
       " 'Accuracy': 0.76}"
      ]
     },
     "execution_count": 19,
     "metadata": {},
     "output_type": "execute_result"
    }
   ],
   "source": [
    "obj = LogisticRegression(X,y2,0.00001, 2000)\n",
    "obj.logisticRegFit()\n",
    "obj.scores()"
   ]
  },
  {
   "cell_type": "code",
   "execution_count": 20,
   "metadata": {},
   "outputs": [],
   "source": [
    "pred2 = obj.logisticRegPredict(X)"
   ]
  },
  {
   "cell_type": "code",
   "execution_count": 21,
   "metadata": {},
   "outputs": [
    {
     "data": {
      "text/plain": [
       "{'MeanSquareError': 0.02666666666666667,\n",
       " 'RootMeanSquareError': 0.16329931618554522,\n",
       " 'Accuracy': 0.9733333333333334}"
      ]
     },
     "execution_count": 21,
     "metadata": {},
     "output_type": "execute_result"
    }
   ],
   "source": [
    "obj = LogisticRegression(X,y3,0.1, 2000)\n",
    "obj.logisticRegFit()\n",
    "obj.scores()"
   ]
  },
  {
   "cell_type": "code",
   "execution_count": 22,
   "metadata": {},
   "outputs": [],
   "source": [
    "pred3 = obj.logisticRegPredict(X)"
   ]
  },
  {
   "cell_type": "code",
   "execution_count": 23,
   "metadata": {},
   "outputs": [
    {
     "data": {
      "text/plain": [
       "array([[0.],\n",
       "       [0.],\n",
       "       [0.],\n",
       "       [0.],\n",
       "       [0.],\n",
       "       [0.],\n",
       "       [0.],\n",
       "       [0.],\n",
       "       [0.],\n",
       "       [0.],\n",
       "       [0.],\n",
       "       [0.],\n",
       "       [0.],\n",
       "       [0.],\n",
       "       [0.],\n",
       "       [0.],\n",
       "       [0.],\n",
       "       [0.],\n",
       "       [0.],\n",
       "       [0.],\n",
       "       [0.],\n",
       "       [0.],\n",
       "       [0.],\n",
       "       [0.],\n",
       "       [0.],\n",
       "       [0.],\n",
       "       [0.],\n",
       "       [0.],\n",
       "       [0.],\n",
       "       [0.],\n",
       "       [0.],\n",
       "       [0.],\n",
       "       [0.],\n",
       "       [0.],\n",
       "       [0.],\n",
       "       [0.],\n",
       "       [0.],\n",
       "       [0.],\n",
       "       [0.],\n",
       "       [0.],\n",
       "       [0.],\n",
       "       [0.],\n",
       "       [0.],\n",
       "       [0.],\n",
       "       [0.],\n",
       "       [0.],\n",
       "       [0.],\n",
       "       [0.],\n",
       "       [0.],\n",
       "       [0.],\n",
       "       [1.],\n",
       "       [0.],\n",
       "       [1.],\n",
       "       [1.],\n",
       "       [1.],\n",
       "       [1.],\n",
       "       [0.],\n",
       "       [1.],\n",
       "       [1.],\n",
       "       [0.],\n",
       "       [1.],\n",
       "       [0.],\n",
       "       [1.],\n",
       "       [1.],\n",
       "       [0.],\n",
       "       [1.],\n",
       "       [0.],\n",
       "       [1.],\n",
       "       [2.],\n",
       "       [1.],\n",
       "       [2.],\n",
       "       [1.],\n",
       "       [2.],\n",
       "       [1.],\n",
       "       [1.],\n",
       "       [1.],\n",
       "       [1.],\n",
       "       [0.],\n",
       "       [0.],\n",
       "       [1.],\n",
       "       [1.],\n",
       "       [1.],\n",
       "       [1.],\n",
       "       [2.],\n",
       "       [0.],\n",
       "       [0.],\n",
       "       [0.],\n",
       "       [1.],\n",
       "       [0.],\n",
       "       [1.],\n",
       "       [1.],\n",
       "       [0.],\n",
       "       [1.],\n",
       "       [1.],\n",
       "       [1.],\n",
       "       [0.],\n",
       "       [0.],\n",
       "       [1.],\n",
       "       [0.],\n",
       "       [0.],\n",
       "       [2.],\n",
       "       [2.],\n",
       "       [2.],\n",
       "       [2.],\n",
       "       [2.],\n",
       "       [2.],\n",
       "       [2.],\n",
       "       [2.],\n",
       "       [2.],\n",
       "       [2.],\n",
       "       [2.],\n",
       "       [2.],\n",
       "       [2.],\n",
       "       [2.],\n",
       "       [2.],\n",
       "       [2.],\n",
       "       [2.],\n",
       "       [2.],\n",
       "       [2.],\n",
       "       [2.],\n",
       "       [2.],\n",
       "       [2.],\n",
       "       [2.],\n",
       "       [2.],\n",
       "       [2.],\n",
       "       [2.],\n",
       "       [2.],\n",
       "       [2.],\n",
       "       [2.],\n",
       "       [2.],\n",
       "       [2.],\n",
       "       [2.],\n",
       "       [2.],\n",
       "       [2.],\n",
       "       [2.],\n",
       "       [2.],\n",
       "       [2.],\n",
       "       [2.],\n",
       "       [2.],\n",
       "       [2.],\n",
       "       [2.],\n",
       "       [2.],\n",
       "       [2.],\n",
       "       [2.],\n",
       "       [2.],\n",
       "       [2.],\n",
       "       [2.],\n",
       "       [2.],\n",
       "       [2.],\n",
       "       [2.]])"
      ]
     },
     "execution_count": 23,
     "metadata": {},
     "output_type": "execute_result"
    }
   ],
   "source": [
    "pred = np.zeros(len(pred1))\n",
    "for i in range(len(pred)):\n",
    "    if pred2[i] == 1:\n",
    "        pred[i] = 1\n",
    "    if pred3[i] == 1:\n",
    "        pred[i] = 2\n",
    "    if pred1[i] == 1:\n",
    "        pred[i] = 0\n",
    "pred = pred.reshape(-1,1)\n",
    "pred"
   ]
  },
  {
   "cell_type": "code",
   "execution_count": 24,
   "metadata": {},
   "outputs": [
    {
     "data": {
      "text/plain": [
       "0.86"
      ]
     },
     "execution_count": 24,
     "metadata": {},
     "output_type": "execute_result"
    }
   ],
   "source": [
    "(pred == y).mean()"
   ]
  }
 ],
 "metadata": {
  "kernelspec": {
   "display_name": "Python 3",
   "language": "python",
   "name": "python3"
  },
  "language_info": {
   "codemirror_mode": {
    "name": "ipython",
    "version": 3
   },
   "file_extension": ".py",
   "mimetype": "text/x-python",
   "name": "python",
   "nbconvert_exporter": "python",
   "pygments_lexer": "ipython3",
   "version": "3.6.8"
  }
 },
 "nbformat": 4,
 "nbformat_minor": 2
}
