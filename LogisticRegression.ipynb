{
 "cells": [
  {
   "cell_type": "code",
   "execution_count": 1,
   "metadata": {},
   "outputs": [],
   "source": [
    "# If data is written from pandas library in Python, convert numeric data to numpy array by using numpy.array(data)\n",
    "class LogisticRegression(object):\n",
    "    import numpy as np\n",
    "    def __init__(self, data, label, learningRate = 0.1, maxEpoch = 100, batchSize = 32):\n",
    "        self.__data = data\n",
    "        self.__label = label\n",
    "        self.__learningRate = learningRate\n",
    "        self.__maxEpoch = maxEpoch\n",
    "        self.__batchSize = batchSize\n",
    "        self.__weights = 0\n",
    "        \n",
    "    def __setWeights(self, weights):\n",
    "        self.__weights = weights\n",
    "    \n",
    "    def __getWeights(self):\n",
    "        return self.__weights\n",
    "    \n",
    "    # Activation function\n",
    "    def __sigmoid(self,result):\n",
    "        return 1 / (1 + np.exp(-result))\n",
    "    \n",
    "    def logisticRegFit(self):\n",
    "        # initialize weights\n",
    "        weights = np.random.randn(self.__data.shape[1]+1).reshape(-1,1)\n",
    "        self.__data = np.insert(self.__data, 0, 1.0, axis=1)\n",
    "        n_minibatches = len(self.__data) // self.__batchSize\n",
    "        for epoch in range(self.__maxEpoch):\n",
    "            # Mini Batch Gradient Descent\n",
    "            for samples in range(n_minibatches + 1):\n",
    "                dataMiniBatch = self.__data[samples * self.__batchSize:(samples + 1) * self.__batchSize,:]\n",
    "                labelMiniBatch = self.__label[samples * self.__batchSize:(samples + 1) * self.__batchSize,:]\n",
    "                if len(dataMiniBatch) == 0:\n",
    "                    break\n",
    "                predictions = np.dot(dataMiniBatch, weights).reshape(-1,1)\n",
    "                predictions = self.__sigmoid(predictions)\n",
    "                predictions = np.round(predictions)\n",
    "                error = labelMiniBatch - predictions\n",
    "                gradient = np.dot(dataMiniBatch.T, error)\n",
    "                weights = weights + self.__learningRate*gradient\n",
    "            #predictions = np.dot(self.__data, weights).reshape(-1,1)\n",
    "            #error = self.__label - predictions\n",
    "            #gradient = np.dot(self.__data.T, error)\n",
    "            #weights = weights + self.__learningRate*gradient\n",
    "        self.__setWeights(weights)\n",
    "        return weights\n",
    "    \n",
    "    def scores(self):\n",
    "        weights = self.__getWeights()\n",
    "        predictions = np.dot(self.__data, weights).reshape(-1,1)\n",
    "        predictions = self.__sigmoid(predictions)\n",
    "        predictions = np.round(predictions)\n",
    "        error = self.__label - predictions\n",
    "        errorSquare = error**2\n",
    "        mse = np.sum(errorSquare)\n",
    "        mse = mse / len(self.__data)\n",
    "        rmse = np.sqrt(mse)\n",
    "        return {\"MeanSquareError\" : mse, \"RootMeanSquareError\" : rmse}\n",
    "  \n",
    "    def logisticRegPredict(self, data):\n",
    "        weights = self.__getWeights()\n",
    "        data = np.insert(data, 0, 1.0, axis=1)\n",
    "        predictions = np.dot(data, weights).reshape(-1,1)\n",
    "        predictions = self.__sigmoid(predictions)\n",
    "        predictions = np.round(predictions)\n",
    "        return predictions"
   ]
  },
  {
   "cell_type": "code",
   "execution_count": 2,
   "metadata": {},
   "outputs": [
    {
     "data": {
      "text/plain": [
       "array([[0, 0],\n",
       "       [1, 0],\n",
       "       [0, 1],\n",
       "       [1, 1]])"
      ]
     },
     "execution_count": 2,
     "metadata": {},
     "output_type": "execute_result"
    }
   ],
   "source": [
    "import numpy as np\n",
    "X = np.array([[0,0],[1,0],[0,1],[1,1]])\n",
    "y = np.array([[0],[0],[0],[1]])\n",
    "obj = LogisticRegression(X,y,0.5, 20)\n",
    "X"
   ]
  },
  {
   "cell_type": "code",
   "execution_count": 3,
   "metadata": {},
   "outputs": [
    {
     "data": {
      "text/plain": [
       "array([[-0.64079669],\n",
       "       [ 0.5025185 ],\n",
       "       [ 0.33920955]])"
      ]
     },
     "execution_count": 3,
     "metadata": {},
     "output_type": "execute_result"
    }
   ],
   "source": [
    "obj.logisticRegFit()"
   ]
  },
  {
   "cell_type": "code",
   "execution_count": 4,
   "metadata": {},
   "outputs": [
    {
     "data": {
      "text/plain": [
       "{'MeanSquareError': 0.0, 'RootMeanSquareError': 0.0}"
      ]
     },
     "execution_count": 4,
     "metadata": {},
     "output_type": "execute_result"
    }
   ],
   "source": [
    "obj.scores()"
   ]
  },
  {
   "cell_type": "code",
   "execution_count": 5,
   "metadata": {},
   "outputs": [
    {
     "data": {
      "text/plain": [
       "array([[0.],\n",
       "       [0.],\n",
       "       [0.],\n",
       "       [1.]])"
      ]
     },
     "execution_count": 5,
     "metadata": {},
     "output_type": "execute_result"
    }
   ],
   "source": [
    "obj.logisticRegPredict(np.array([[0,0],[1,0],[0,1],[1,1]]))"
   ]
  }
 ],
 "metadata": {
  "kernelspec": {
   "display_name": "Python 3",
   "language": "python",
   "name": "python3"
  },
  "language_info": {
   "codemirror_mode": {
    "name": "ipython",
    "version": 3
   },
   "file_extension": ".py",
   "mimetype": "text/x-python",
   "name": "python",
   "nbconvert_exporter": "python",
   "pygments_lexer": "ipython3",
   "version": "3.6.8"
  }
 },
 "nbformat": 4,
 "nbformat_minor": 2
}
